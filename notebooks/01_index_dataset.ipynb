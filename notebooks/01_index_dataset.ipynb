{
 "cells": [
  {
   "cell_type": "markdown",
   "id": "02751124-edda-47c5-9b07-ba9244ba1dd2",
   "metadata": {},
   "source": [
    "### **01_index_dataset.ipynb**\n",
    "### **Download BBC News dataset and index it in Elasticsearch**\n",
    "\n",
    "* ##### 01 - Install packages\n",
    "* ##### 02 - Import packages\n",
    "* ##### 03 - Download Multilingual Universal Sentence Encoder model\n",
    "* ##### 04 - Download BBC News dataset\n",
    "* ##### 05 - Create Elasticsearch client\n",
    "* ##### 06 - Create BBC News index in Elasticsearch\n",
    "* ##### 07 - Index BBC News dataset in Elasticsearch"
   ]
  },
  {
   "cell_type": "markdown",
   "id": "f3572c57-d042-4b6c-8284-bcc446c4b6b3",
   "metadata": {},
   "source": [
    "### 01 - Install packages"
   ]
  },
  {
   "cell_type": "code",
   "execution_count": null,
   "id": "5d4dd25b-ee59-413d-85b3-df1cab6002fe",
   "metadata": {},
   "outputs": [],
   "source": [
    "import sys"
   ]
  },
  {
   "cell_type": "code",
   "execution_count": null,
   "id": "043a1cb4-61f6-4737-9ba1-e9767494de3c",
   "metadata": {
    "tags": []
   },
   "outputs": [],
   "source": [
    "!{ sys.executable } -m pip install --upgrade datasets elasticsearch ipython tensorflow tensorflow-hub tensorflow-text urllib3"
   ]
  },
  {
   "cell_type": "markdown",
   "id": "78df22c6-ddd3-49b3-93ee-53de5449d9b7",
   "metadata": {},
   "source": [
    "### 02 - Import packages"
   ]
  },
  {
   "cell_type": "code",
   "execution_count": null,
   "id": "ac869da1-4b03-4006-acfb-a16cba25d8ca",
   "metadata": {
    "tags": []
   },
   "outputs": [],
   "source": [
    "import tensorflow_text\n",
    "\n",
    "from datasets       import load_dataset\n",
    "from elasticsearch  import Elasticsearch\n",
    "from IPython        import display\n",
    "from tensorflow_hub import load"
   ]
  },
  {
   "cell_type": "code",
   "execution_count": null,
   "id": "42a81127-91d0-4013-8e95-1008ca33c6ed",
   "metadata": {
    "tags": []
   },
   "outputs": [],
   "source": [
    "from urllib3 import disable_warnings\n",
    "disable_warnings()"
   ]
  },
  {
   "cell_type": "markdown",
   "id": "d6292778-1cef-4e85-ac1a-9cdad21d2191",
   "metadata": {},
   "source": [
    "### 03 - Download Multilingual Universal Sentence Encoder model"
   ]
  },
  {
   "cell_type": "code",
   "execution_count": null,
   "id": "8adfbafa-81af-41c9-ab59-8fed6b8fa50b",
   "metadata": {
    "tags": []
   },
   "outputs": [],
   "source": [
    "model = load('https://www.kaggle.com/models/google/universal-sentence-encoder/frameworks/TensorFlow2/variations/multilingual-large/versions/2')"
   ]
  },
  {
   "cell_type": "code",
   "execution_count": null,
   "id": "d4599ac8-009d-42a0-9d71-378864dc4dbd",
   "metadata": {
    "tags": []
   },
   "outputs": [],
   "source": [
    "model('Hello World, ML Elasticsearch!')[0].numpy()"
   ]
  },
  {
   "cell_type": "markdown",
   "id": "db208932-904c-4ffe-a3ae-6f1cf7a83da9",
   "metadata": {},
   "source": [
    "### 04 - Download BBC News dataset"
   ]
  },
  {
   "cell_type": "code",
   "execution_count": null,
   "id": "8ffdc4b5-6644-41c1-84e9-c237032c1ca7",
   "metadata": {
    "tags": []
   },
   "outputs": [],
   "source": [
    "bbc_news_dataset = load_dataset('SetFit/bbc-news')"
   ]
  },
  {
   "cell_type": "code",
   "execution_count": null,
   "id": "665c6764-02c9-4eb8-b345-e31fe11f7222",
   "metadata": {
    "tags": []
   },
   "outputs": [],
   "source": [
    "bbc_news_dataset"
   ]
  },
  {
   "cell_type": "markdown",
   "id": "1a5a3e16-5985-42cf-bd28-28ce5dd1f0ee",
   "metadata": {},
   "source": [
    "### 05 - Create Elasticsearch client"
   ]
  },
  {
   "cell_type": "code",
   "execution_count": null,
   "id": "2c28709a-7ba8-4774-bf9a-ca272fb0e8ed",
   "metadata": {
    "tags": []
   },
   "outputs": [],
   "source": [
    "es_host     = '<elasticsearch_host>'\n",
    "es_username = '<elasticsearch_username>'\n",
    "es_password = '<elasticsearch_password>'"
   ]
  },
  {
   "cell_type": "code",
   "execution_count": null,
   "id": "60e4a5d2-2338-4802-8a1a-6423ee537b8d",
   "metadata": {
    "tags": []
   },
   "outputs": [],
   "source": [
    "es = Elasticsearch(\n",
    "    hosts        = es_host,\n",
    "    basic_auth   = (es_username, es_password),\n",
    "    verify_certs = False\n",
    ")"
   ]
  },
  {
   "cell_type": "code",
   "execution_count": null,
   "id": "4775351f-0a14-4155-aa1c-35e4955c6c65",
   "metadata": {
    "tags": []
   },
   "outputs": [],
   "source": [
    "es.info()"
   ]
  },
  {
   "cell_type": "markdown",
   "id": "79961f5b-ad56-41c4-af02-e6fc7a4217f6",
   "metadata": {},
   "source": [
    "### 06 - Create BBC News index in Elasticsearch"
   ]
  },
  {
   "cell_type": "code",
   "execution_count": null,
   "id": "5a9a7cfc-5192-4e8f-a1c1-2c891b06f423",
   "metadata": {
    "tags": []
   },
   "outputs": [],
   "source": [
    "bbc_news_index = 'bbc_news'"
   ]
  },
  {
   "cell_type": "code",
   "execution_count": null,
   "id": "c64e6f1f-2e81-4408-8252-e6c826d535cf",
   "metadata": {
    "tags": []
   },
   "outputs": [],
   "source": [
    "es.indices.create(\n",
    "    index    = bbc_news_index,\n",
    "    settings = {\n",
    "        'number_of_shards'   : 2,\n",
    "        'number_of_replicas' : 1\n",
    "    },\n",
    "    mappings = {\n",
    "        'properties' : {\n",
    "            'text'     : { 'type' : 'text' },\n",
    "            'vector'   : { 'type' : 'dense_vector', 'dims' : 512, 'index' : True },\n",
    "            'metadata' : {\n",
    "                'properties' : {\n",
    "                    'label'        : { 'type' : 'integer' },\n",
    "                    'label_text'   : { 'type' : 'text' },\n",
    "                    'dataset_type' : { 'type' : 'text' }\n",
    "                }\n",
    "            }\n",
    "        }\n",
    "    }\n",
    ")"
   ]
  },
  {
   "cell_type": "markdown",
   "id": "23ec7167-b2c8-4b59-b4f6-30ef6d0b58e7",
   "metadata": {},
   "source": [
    "### 07 - Index BBC News dataset in Elasticsearch"
   ]
  },
  {
   "cell_type": "code",
   "execution_count": null,
   "id": "81cc1941-4408-48f7-8b07-b0fcf9c7a7bf",
   "metadata": {
    "tags": []
   },
   "outputs": [],
   "source": [
    "for dataset_type in bbc_news_dataset:\n",
    "\n",
    "    dataset = bbc_news_dataset[dataset_type]\n",
    "    size    = len(dataset)\n",
    "\n",
    "    for index, item in enumerate(dataset, start = 1):\n",
    "\n",
    "        display.clear_output(wait = True)\n",
    "        print(f'Indexing BBC News { dataset_type } dataset : { index } / { size }')\n",
    "\n",
    "        document = {\n",
    "            'text'     : item['text'],\n",
    "            'vector'   : model(item['text'])[0].numpy(),\n",
    "            'metadata' : {\n",
    "                'label'        : item['label'],\n",
    "                'label_text'   : item['label_text'],\n",
    "                'dataset_type' : dataset_type\n",
    "            }\n",
    "        }\n",
    "\n",
    "        es.index(index = bbc_news_index, document = document)"
   ]
  },
  {
   "cell_type": "code",
   "execution_count": null,
   "id": "9fd84d74-ddb0-451c-a9bb-234e058405ed",
   "metadata": {
    "tags": []
   },
   "outputs": [],
   "source": [
    "es.indices.refresh(index = bbc_news_index)"
   ]
  },
  {
   "cell_type": "code",
   "execution_count": null,
   "id": "9841ae15-22d9-45c4-b695-93961fd7f30b",
   "metadata": {
    "tags": []
   },
   "outputs": [],
   "source": [
    "es.count(index = bbc_news_index)"
   ]
  }
 ],
 "metadata": {
  "kernelspec": {
   "display_name": "Python 3.9",
   "language": "python",
   "name": "python3"
  },
  "language_info": {
   "codemirror_mode": {
    "name": "ipython",
    "version": 3
   },
   "file_extension": ".py",
   "mimetype": "text/x-python",
   "name": "python",
   "nbconvert_exporter": "python",
   "pygments_lexer": "ipython3",
   "version": "3.9.16"
  }
 },
 "nbformat": 4,
 "nbformat_minor": 5
}
