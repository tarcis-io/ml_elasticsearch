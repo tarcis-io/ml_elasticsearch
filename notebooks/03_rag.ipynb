{
 "cells": [
  {
   "cell_type": "markdown",
   "id": "c8c2d804-a3e1-4f2f-9d88-6cea381e5a84",
   "metadata": {},
   "source": [
    "### **03_rag.ipynb**\n",
    "### **Retrieval-augmented generation**\n",
    "\n",
    "* ##### 01 - Install packages\n",
    "* ##### 02 - Import packages\n",
    "* ##### 03 - Download Multilingual Universal Sentence Encoder model\n",
    "* ##### 04 - Create Elasticsearch client\n",
    "* ##### 05 - Create Elasticsearch vector store\n",
    "* ##### 06 - Download Large Language Model\n",
    "* ##### 07 - Question answering"
   ]
  },
  {
   "cell_type": "markdown",
   "id": "ac266638-757b-4a1d-b07d-d42eabeaacc9",
   "metadata": {},
   "source": [
    "### 01 - Install packages"
   ]
  },
  {
   "cell_type": "code",
   "execution_count": null,
   "id": "3f052d97-fb83-453a-88bb-d2583781a774",
   "metadata": {},
   "outputs": [],
   "source": [
    "import sys"
   ]
  },
  {
   "cell_type": "code",
   "execution_count": null,
   "id": "f6072882-8663-4563-b521-1cff081a04f3",
   "metadata": {
    "tags": []
   },
   "outputs": [],
   "source": [
    "!{ sys.executable } -m pip install --upgrade elasticsearch huggingface-hub langchain langchain-community llama-cpp-python tensorflow tensorflow-hub tensorflow-text urllib3"
   ]
  },
  {
   "cell_type": "markdown",
   "id": "5368923d-3150-4839-990e-19fcc0f1cb4d",
   "metadata": {},
   "source": [
    "### 02 - Import packages"
   ]
  },
  {
   "cell_type": "code",
   "execution_count": null,
   "id": "bb9a4108-8aea-4984-bab6-a013711be4b1",
   "metadata": {
    "tags": []
   },
   "outputs": [],
   "source": [
    "from elasticsearch          import Elasticsearch\n",
    "from huggingface_hub        import hf_hub_download\n",
    "from langchain.chains       import RetrievalQA\n",
    "from langchain.embeddings   import TensorflowHubEmbeddings\n",
    "from langchain.llms         import LlamaCpp\n",
    "from langchain.vectorstores import ElasticsearchStore"
   ]
  },
  {
   "cell_type": "code",
   "execution_count": null,
   "id": "46867687-b30c-4621-a095-dfd95cbc06e2",
   "metadata": {
    "tags": []
   },
   "outputs": [],
   "source": [
    "from urllib3 import disable_warnings\n",
    "disable_warnings()"
   ]
  },
  {
   "cell_type": "markdown",
   "id": "7b94c3ab-3541-4c1f-93ed-fa932bf2924b",
   "metadata": {},
   "source": [
    "### 03 - Download Multilingual Universal Sentence Encoder model"
   ]
  },
  {
   "cell_type": "code",
   "execution_count": null,
   "id": "c114767e-2a4f-45d5-9742-094b58ac0bb3",
   "metadata": {
    "tags": []
   },
   "outputs": [],
   "source": [
    "embedding = TensorflowHubEmbeddings(model_url = 'https://www.kaggle.com/models/google/universal-sentence-encoder/frameworks/TensorFlow2/variations/multilingual-large/versions/2')"
   ]
  },
  {
   "cell_type": "code",
   "execution_count": null,
   "id": "062a790c-fa25-422d-a1fb-ee6057ae9804",
   "metadata": {
    "tags": []
   },
   "outputs": [],
   "source": [
    "embedding.embed_query('Hello World, ML Elasticsearch!')"
   ]
  },
  {
   "cell_type": "markdown",
   "id": "a267f438-0d36-489e-b635-2394d7d3e034",
   "metadata": {},
   "source": [
    "### 04 - Create Elasticsearch client"
   ]
  },
  {
   "cell_type": "code",
   "execution_count": null,
   "id": "988cc3cd-bf1a-4ec2-8cd9-1355bf450d43",
   "metadata": {},
   "outputs": [],
   "source": [
    "es_host     = '<elasticsearch_host>'\n",
    "es_username = '<elasticsearch_username>'\n",
    "es_password = '<elasticsearch_password>'"
   ]
  },
  {
   "cell_type": "code",
   "execution_count": null,
   "id": "eed4e65d-854e-4f22-ac47-101c2a034197",
   "metadata": {
    "tags": []
   },
   "outputs": [],
   "source": [
    "es = Elasticsearch(\n",
    "    hosts        = es_host,\n",
    "    basic_auth   = (es_username, es_password),\n",
    "    verify_certs = False\n",
    ")"
   ]
  },
  {
   "cell_type": "code",
   "execution_count": null,
   "id": "8c057710-9865-42b9-b33e-9c8c61a7b361",
   "metadata": {
    "tags": []
   },
   "outputs": [],
   "source": [
    "es.info()"
   ]
  },
  {
   "cell_type": "markdown",
   "id": "4a04a869-b0cc-41be-bece-4ed7b6c81c03",
   "metadata": {},
   "source": [
    "### 05 - Create Elasticsearch vector store"
   ]
  },
  {
   "cell_type": "code",
   "execution_count": null,
   "id": "54b16340-e3e3-4beb-a219-33944e8017c4",
   "metadata": {
    "tags": []
   },
   "outputs": [],
   "source": [
    "bbc_news_index = 'bbc_news'"
   ]
  },
  {
   "cell_type": "code",
   "execution_count": null,
   "id": "4eea662a-9015-41f3-9efb-05a0219fd933",
   "metadata": {
    "tags": []
   },
   "outputs": [],
   "source": [
    "vector_store = ElasticsearchStore(\n",
    "    es_connection = es,\n",
    "    embedding     = embedding,\n",
    "    index_name    = bbc_news_index\n",
    ")"
   ]
  },
  {
   "cell_type": "code",
   "execution_count": null,
   "id": "bc3b9480-e38b-47a5-a1c9-351fff4fc4cf",
   "metadata": {
    "tags": []
   },
   "outputs": [],
   "source": [
    "vector_store.similarity_search('ibm')[0].page_content"
   ]
  },
  {
   "cell_type": "markdown",
   "id": "3987f2be-c586-4eb8-8ea2-1ec6ac1592bb",
   "metadata": {},
   "source": [
    "### 06 - Download Large Language Model"
   ]
  },
  {
   "cell_type": "code",
   "execution_count": null,
   "id": "83fb17c3-c1d0-4a19-a924-f960680dc471",
   "metadata": {
    "tags": []
   },
   "outputs": [],
   "source": [
    "llm_path = hf_hub_download('afrideva/Tiny-Vicuna-1B-GGUF', filename = 'tiny-vicuna-1b.q4_k_m.gguf')\n",
    "llm      = LlamaCpp(model_path = llm_path, n_ctx = 4096, max_tokens = 256)"
   ]
  },
  {
   "cell_type": "code",
   "execution_count": null,
   "id": "37004006-bc43-4761-a3fd-c383a2eafac7",
   "metadata": {
    "tags": []
   },
   "outputs": [],
   "source": [
    "llm('What is IBM?')"
   ]
  },
  {
   "cell_type": "markdown",
   "id": "f07ab6b9-c9e6-4e29-a8dd-e6a56840c5b7",
   "metadata": {},
   "source": [
    "### 07 - Question answering"
   ]
  },
  {
   "cell_type": "code",
   "execution_count": null,
   "id": "873b65cc-b29b-446d-856a-d287c33efb11",
   "metadata": {
    "tags": []
   },
   "outputs": [],
   "source": [
    "retrieval_qa = RetrievalQA.from_llm(llm, retriever = vector_store.as_retriever(), return_source_documents = True)"
   ]
  },
  {
   "cell_type": "code",
   "execution_count": null,
   "id": "de09d5c3-3c26-4227-aa06-ec4f7c3309a6",
   "metadata": {
    "tags": []
   },
   "outputs": [],
   "source": [
    "def qa(question):\n",
    "\n",
    "    answer = retrieval_qa({ 'query' : question })\n",
    "\n",
    "    print(f\"Generated answer : { answer['result'] }\")\n",
    "    print(f\"Source answer    : { answer['source_documents'][0].page_content }\")"
   ]
  },
  {
   "cell_type": "code",
   "execution_count": null,
   "id": "1259f2d0-9251-4c20-8ced-82c618587f7c",
   "metadata": {
    "tags": []
   },
   "outputs": [],
   "source": [
    "qa('What is IBM doing for open source?')"
   ]
  },
  {
   "cell_type": "code",
   "execution_count": null,
   "id": "a5e33145-2cce-4cde-8c89-90d1c0b96447",
   "metadata": {
    "tags": []
   },
   "outputs": [],
   "source": [
    "qa('¿Qué está haciendo IBM por el código abierto?')"
   ]
  },
  {
   "cell_type": "code",
   "execution_count": null,
   "id": "9d511d1b-7e23-474f-97e6-a2f0a7593637",
   "metadata": {
    "tags": []
   },
   "outputs": [],
   "source": [
    "qa('O que a IBM está fazendo pelo código aberto?')"
   ]
  }
 ],
 "metadata": {
  "kernelspec": {
   "display_name": "Python 3.9",
   "language": "python",
   "name": "python3"
  },
  "language_info": {
   "codemirror_mode": {
    "name": "ipython",
    "version": 3
   },
   "file_extension": ".py",
   "mimetype": "text/x-python",
   "name": "python",
   "nbconvert_exporter": "python",
   "pygments_lexer": "ipython3",
   "version": "3.9.16"
  }
 },
 "nbformat": 4,
 "nbformat_minor": 5
}
