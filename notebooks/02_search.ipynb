{
 "cells": [
  {
   "cell_type": "markdown",
   "id": "5ca5eb94-4449-45c5-a647-007e59f2e79a",
   "metadata": {},
   "source": [
    "### **02_search.ipynb**\n",
    "### **Similarity search and multilingual semantic-similarity search**\n",
    "\n",
    "* ##### 01 - Install packages\n",
    "* ##### 02 - Import packages\n",
    "* ##### 03 - Download Multilingual Universal Sentence Encoder model\n",
    "* ##### 04 - Create Elasticsearch client\n",
    "* ##### 05 - Similarity search\n",
    "* ##### 06 - Multilingual semantic-similarity search"
   ]
  },
  {
   "cell_type": "markdown",
   "id": "c0cbd628-e9e5-4802-995f-bc68174e6912",
   "metadata": {},
   "source": [
    "### 01 - Install packages"
   ]
  },
  {
   "cell_type": "code",
   "execution_count": null,
   "id": "033ef016-1407-4ee4-9a02-b6154567e40b",
   "metadata": {},
   "outputs": [],
   "source": [
    "import sys"
   ]
  },
  {
   "cell_type": "code",
   "execution_count": null,
   "id": "4e0718cf-df45-475e-a08d-9f59f7c34fea",
   "metadata": {},
   "outputs": [],
   "source": [
    "!{ sys.executable } -m pip install --upgrade elasticsearch tensorflow tensorflow-hub tensorflow-text urllib3"
   ]
  },
  {
   "cell_type": "markdown",
   "id": "6dc09001-690c-4871-8c03-b43b7c486220",
   "metadata": {},
   "source": [
    "### 02 - Import packages"
   ]
  },
  {
   "cell_type": "code",
   "execution_count": null,
   "id": "ace36433-7d6a-4c76-b33c-6217a994d61b",
   "metadata": {
    "tags": []
   },
   "outputs": [],
   "source": [
    "import tensorflow_text\n",
    "\n",
    "from elasticsearch  import Elasticsearch\n",
    "from tensorflow_hub import load"
   ]
  },
  {
   "cell_type": "code",
   "execution_count": null,
   "id": "d3515f15-0903-4e26-9a81-b8fb5d5c1e05",
   "metadata": {
    "tags": []
   },
   "outputs": [],
   "source": [
    "from urllib3 import disable_warnings\n",
    "disable_warnings()"
   ]
  },
  {
   "cell_type": "markdown",
   "id": "ca7c98cb-ee90-4a3d-9192-efd4f01a1967",
   "metadata": {},
   "source": [
    "### 03 - Download Multilingual Universal Sentence Encoder model"
   ]
  },
  {
   "cell_type": "code",
   "execution_count": null,
   "id": "860ee873-a709-43b6-a489-84cc784afe44",
   "metadata": {
    "tags": []
   },
   "outputs": [],
   "source": [
    "model = load('https://www.kaggle.com/models/google/universal-sentence-encoder/frameworks/TensorFlow2/variations/multilingual-large/versions/2')"
   ]
  },
  {
   "cell_type": "code",
   "execution_count": null,
   "id": "4a3a6e7f-37e0-4344-80c3-f8079188856e",
   "metadata": {
    "tags": []
   },
   "outputs": [],
   "source": [
    "model('Hello World, ML Elasticsearch!')[0].numpy()"
   ]
  },
  {
   "cell_type": "markdown",
   "id": "9947e571-ff65-4500-b5ea-5c1f0c23accd",
   "metadata": {},
   "source": [
    "### 04 - Create Elasticsearch client"
   ]
  },
  {
   "cell_type": "code",
   "execution_count": null,
   "id": "21c84cd1-8c26-415d-84e6-ea735bdd139e",
   "metadata": {
    "tags": []
   },
   "outputs": [],
   "source": [
    "es_host     = '<elasticsearch_host>'\n",
    "es_username = '<elasticsearch_username>'\n",
    "es_password = '<elasticsearch_password>'"
   ]
  },
  {
   "cell_type": "code",
   "execution_count": null,
   "id": "655cc107-9250-4fce-935f-844b1617c115",
   "metadata": {
    "tags": []
   },
   "outputs": [],
   "source": [
    "es = Elasticsearch(\n",
    "    hosts        = es_host,\n",
    "    basic_auth   = (es_username, es_password),\n",
    "    verify_certs = False\n",
    ")"
   ]
  },
  {
   "cell_type": "code",
   "execution_count": null,
   "id": "f0cf14b6-1411-4792-bddf-19f36b401a9a",
   "metadata": {
    "tags": []
   },
   "outputs": [],
   "source": [
    "es.info()"
   ]
  },
  {
   "cell_type": "markdown",
   "id": "47a8bb0f-dd3b-4e62-bd70-a031c8198ae1",
   "metadata": {},
   "source": [
    "### 05 - Similarity search"
   ]
  },
  {
   "cell_type": "code",
   "execution_count": null,
   "id": "f9f313ce-1894-43c5-a0c1-472413529175",
   "metadata": {
    "tags": []
   },
   "outputs": [],
   "source": [
    "bbc_news_index = 'bbc_news'"
   ]
  },
  {
   "cell_type": "code",
   "execution_count": null,
   "id": "9497a6da-37f1-48ae-96ca-90e3542b65c2",
   "metadata": {
    "tags": []
   },
   "outputs": [],
   "source": [
    "text_english    = 'european economic growth'\n",
    "text_spanish    = 'crecimiento económico europeo'\n",
    "text_portuguese = 'crescimento econômico europeu'"
   ]
  },
  {
   "cell_type": "code",
   "execution_count": null,
   "id": "15b891d0-8b3f-4e46-99d4-c4e248a84c0f",
   "metadata": {
    "tags": []
   },
   "outputs": [],
   "source": [
    "def search(query):\n",
    "\n",
    "    result = es.search(index = bbc_news_index, query = query, size = 1)\n",
    "    result = result['hits']['hits']\n",
    "\n",
    "    if len(result) == 0:\n",
    "\n",
    "        print('no results found...')\n",
    "        return\n",
    "\n",
    "    result = result[0]\n",
    "\n",
    "    print(f\"score : { result['_score'] }\")\n",
    "    print(f\"label : { result['_source']['metadata']['label_text'] }\")\n",
    "    print(f\"text  : { result['_source']['text'] }\")"
   ]
  },
  {
   "cell_type": "code",
   "execution_count": null,
   "id": "b7dd9fcf-64d8-4bb8-ae2b-5d428bb7a17d",
   "metadata": {
    "tags": []
   },
   "outputs": [],
   "source": [
    "def similarity_search(text):\n",
    "\n",
    "    query = {\n",
    "        'match' : {\n",
    "            'text' : text\n",
    "        }\n",
    "    }\n",
    "\n",
    "    search(query)"
   ]
  },
  {
   "cell_type": "code",
   "execution_count": null,
   "id": "676fa87d-5c83-4d51-8b76-0c3de3cfd49e",
   "metadata": {
    "tags": []
   },
   "outputs": [],
   "source": [
    "similarity_search(text_english)"
   ]
  },
  {
   "cell_type": "code",
   "execution_count": null,
   "id": "e553ea37-f24d-4b3d-a3d6-06ed1707d37f",
   "metadata": {
    "tags": []
   },
   "outputs": [],
   "source": [
    "similarity_search(text_spanish)"
   ]
  },
  {
   "cell_type": "code",
   "execution_count": null,
   "id": "ce221dbe-f745-4569-b803-ad25f26fc1d6",
   "metadata": {
    "tags": []
   },
   "outputs": [],
   "source": [
    "similarity_search(text_portuguese)"
   ]
  },
  {
   "cell_type": "markdown",
   "id": "9cd06c01-c9df-45dd-866d-9fa9705c01fc",
   "metadata": {},
   "source": [
    "### 06 - Multilingual semantic-similarity search"
   ]
  },
  {
   "cell_type": "code",
   "execution_count": null,
   "id": "9eed7d8d-6c00-422f-8a47-d92905308fdd",
   "metadata": {
    "tags": []
   },
   "outputs": [],
   "source": [
    "def multilingual_semantic_similarity_search(text):\n",
    "\n",
    "    query = {\n",
    "        'script_score' : {\n",
    "            'query'  : { 'match_all' : {} },\n",
    "            'script' : {\n",
    "                'source' : \"cosineSimilarity(params.vector, 'vector') + 1.0\",\n",
    "                'params' : { 'vector' : model(text)[0].numpy() }\n",
    "            }\n",
    "        }\n",
    "    }\n",
    "\n",
    "    search(query)"
   ]
  },
  {
   "cell_type": "code",
   "execution_count": null,
   "id": "78a72983-0523-4e64-b185-932c3b44c6ca",
   "metadata": {
    "tags": []
   },
   "outputs": [],
   "source": [
    "multilingual_semantic_similarity_search(text_english)"
   ]
  },
  {
   "cell_type": "code",
   "execution_count": null,
   "id": "2e9fc5ff-b095-4db9-8c36-6d81cc584fac",
   "metadata": {
    "tags": []
   },
   "outputs": [],
   "source": [
    "multilingual_semantic_similarity_search(text_spanish)"
   ]
  },
  {
   "cell_type": "code",
   "execution_count": null,
   "id": "a7dea886-940d-4b74-9955-b7b7178e4d47",
   "metadata": {
    "tags": []
   },
   "outputs": [],
   "source": [
    "multilingual_semantic_similarity_search(text_portuguese)"
   ]
  }
 ],
 "metadata": {
  "kernelspec": {
   "display_name": "Python 3.9",
   "language": "python",
   "name": "python3"
  },
  "language_info": {
   "codemirror_mode": {
    "name": "ipython",
    "version": 3
   },
   "file_extension": ".py",
   "mimetype": "text/x-python",
   "name": "python",
   "nbconvert_exporter": "python",
   "pygments_lexer": "ipython3",
   "version": "3.9.16"
  }
 },
 "nbformat": 4,
 "nbformat_minor": 5
}
